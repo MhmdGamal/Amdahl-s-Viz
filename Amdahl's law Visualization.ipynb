{
 "cells": [
  {
   "cell_type": "code",
   "execution_count": 1,
   "metadata": {},
   "outputs": [
    {
     "data": {
      "application/vnd.jupyter.widget-view+json": {
       "model_id": "5491f75ae6314751bd9744f957102809",
       "version_major": 2,
       "version_minor": 0
      },
      "text/plain": [
       "interactive(children=(Dropdown(description='Type:', options=('Symmetric', 'Asymmetric', 'Dynamic'), value='Sym…"
      ]
     },
     "metadata": {},
     "output_type": "display_data"
    },
    {
     "data": {
      "text/plain": [
       "<function __main__.onck(cond, F, N)>"
      ]
     },
     "execution_count": 1,
     "metadata": {},
     "output_type": "execute_result"
    }
   ],
   "source": [
    "%matplotlib inline\n",
    "import matplotlib.pyplot as plt\n",
    "import ipywidgets as widgets\n",
    "\n",
    "\n",
    "def onck(cond,F,N):\n",
    "    check=cond\n",
    "    n=N\n",
    "    r=[0.0001,2]\n",
    "    while(r[-1]< n):\n",
    "        r.append(r[-1]+r[-1])\n",
    "    speedup_Values=[]\n",
    "    f=F\n",
    "    if (cond=='Symmetric'):\n",
    "        for i in r:\n",
    "            speed_inst=1/(((1-f)/(i**0.5))+((f*i)/((i**0.5)*n)))\n",
    "            speedup_Values.append(speed_inst)\n",
    "        y_label='Speedup_Symmetric'\n",
    "    elif(cond=='Asymmetric') :\n",
    "        for i in r:\n",
    "            speed_inst=1/(((1-f)/(i**0.5))+(f/((i**0.5)+(n-i))))\n",
    "            speedup_Values.append(speed_inst)\n",
    "        y_label='Speedup_Asymmetric'\n",
    "    elif (cond=='Dynamic'):\n",
    "        for i in r:\n",
    "            speed_inst=1/(((1-f)/(i**0.5))+(f/n))\n",
    "            speedup_Values.append(speed_inst)\n",
    "        y_label='Speedup_Dynamic'\n",
    "    fig=plt.figure(figsize=(13,9))\n",
    "    plt.plot(r,speedup_Values)\n",
    "    plt.xlabel('r_BCEs')\n",
    "    plt.ylabel(y_label)\n",
    "    plt.title('n={}'.format(n))\n",
    "    plt.grid(True)\n",
    "    plt.show()\n",
    "    print('The best result (',r[speedup_Values.index(max(speedup_Values))],',',max(speedup_Values),')')\n",
    "\n",
    "tex0=widgets.Dropdown(\n",
    "    options=['Symmetric', 'Asymmetric', 'Dynamic'],\n",
    "    value='Symmetric',\n",
    "    description='Type:',\n",
    "    disabled=False,\n",
    ")\n",
    "tex1=widgets.FloatText(\n",
    "    value=float(0.5),\n",
    "    description='F: ',\n",
    "    disabled=False,\n",
    "    continuous_update=True\n",
    ")\n",
    "tex2=widgets.IntText(\n",
    "    value=int(16),\n",
    "    description='N: ',\n",
    "    disabled=False,\n",
    "    continuous_update=True\n",
    ")\n",
    "\n",
    "widgets.interact(onck,cond=tex0,F=tex1,N=tex2)\n"
   ]
  },
  {
   "cell_type": "code",
   "execution_count": null,
   "metadata": {},
   "outputs": [],
   "source": []
  }
 ],
 "metadata": {
  "kernelspec": {
   "display_name": "Python 3",
   "language": "python",
   "name": "python3"
  },
  "language_info": {
   "codemirror_mode": {
    "name": "ipython",
    "version": 3
   },
   "file_extension": ".py",
   "mimetype": "text/x-python",
   "name": "python",
   "nbconvert_exporter": "python",
   "pygments_lexer": "ipython3",
   "version": "3.8.3"
  }
 },
 "nbformat": 4,
 "nbformat_minor": 4
}
