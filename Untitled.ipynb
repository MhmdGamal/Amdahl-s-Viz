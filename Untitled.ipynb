{
 "cells": [
  {
   "cell_type": "code",
   "execution_count": 1,
   "metadata": {
    "scrolled": false
   },
   "outputs": [
    {
     "name": "stdout",
     "output_type": "stream",
     "text": [
      "input 0_Symatric,1-Asymatric,2-Dynamic\n"
     ]
    },
    {
     "data": {
      "application/vnd.jupyter.widget-view+json": {
       "model_id": "5478c6e505ff452193c0c94e9757d8f9",
       "version_major": 2,
       "version_minor": 0
      },
      "text/plain": [
       "interactive(children=(FloatText(value=0.0, continuous_update=True, description='TypeCheck: '), FloatText(value…"
      ]
     },
     "metadata": {},
     "output_type": "display_data"
    },
    {
     "data": {
      "text/plain": [
       "<function __main__.onck(cond, F, N, c)>"
      ]
     },
     "execution_count": 1,
     "metadata": {},
     "output_type": "execute_result"
    }
   ],
   "source": [
    "%matplotlib notebook\n",
    "import matplotlib.pyplot as plt\n",
    "import ipywidgets as widgets\n",
    "from matplotlib.widgets import Cursor , Button\n",
    "\n",
    "def onck(cond,F,N,c):\n",
    "    check=cond\n",
    "    n=N\n",
    "    cores=c\n",
    "    r_=[2]\n",
    "    while(r_[-1]<int(n/cores)):\n",
    "        r_.append(r_[-1]+r_[-1])\n",
    "    r=[0.0001]+r_\n",
    "    speed_s_l=[]\n",
    "    f=F\n",
    "    if (cond==0):\n",
    "        for i in r:\n",
    "            speed_s=1/(((1-f)/(i**0.5))+((f*i)/((i**0.5)*n)))\n",
    "            speed_s_l.append(speed_s)\n",
    "        y_label='Speedup_Symmetric'\n",
    "    elif(cond==1) :\n",
    "        for i in r:\n",
    "            speed_s=1/(((1-f)/(i**0.5))+(f/((i**0.5)+(n-i))))\n",
    "            speed_s_l.append(speed_s)\n",
    "        y_label='Speedup_Asymmetric'\n",
    "    elif (cond==2):\n",
    "        for i in r:\n",
    "            speed_s=1/(((1-f)/(i**0.5))+(f/n))\n",
    "            speed_s_l.append(speed_s)\n",
    "        y_label='Speedup_Dynamic'\n",
    "    fig=plt.figure(figsize=(8,6))\n",
    "    plt.plot(r,speed_s_l)\n",
    "    #plt.xticks([0]+r_,[0]+r_)\n",
    "    #plt.yticks([2,4,6,8,10,12,14,16],[2,4,6,8,10,12,14,16])\n",
    "    plt.xlabel('r_BCEs')\n",
    "    plt.ylabel(y_label)\n",
    "    plt.title('n={}'.format(n))\n",
    "    plt.grid(True)\n",
    "    def onclick(event):\n",
    "        print('%s click: button=%d, r=%d, S=%d, rdata=%f, Sdata=%f' %\n",
    "          ('double' if event.dblclick else 'single', event.button,\n",
    "           event.x, event.y, event.xdata, event.ydata))\n",
    "\n",
    "    cid = fig.canvas.mpl_connect('button_press_event', onclick)\n",
    "    plt.show()\n",
    "    print('The best result (',r[speed_s_l.index(max(speed_s_l))],',',max(speed_s_l),')')\n",
    "print('input 0_Symatric,1-Asymatric,2-Dynamic')\n",
    "tex0=widgets.FloatText(\n",
    "    value=int(0),\n",
    "    description='TypeCheck: ',\n",
    "    disabled=False,\n",
    "    continuous_update=True\n",
    ")\n",
    "tex=widgets.FloatText(\n",
    "    value=float(0.5),\n",
    "    description='F: ',\n",
    "    disabled=False,\n",
    "    continuous_update=True\n",
    ")\n",
    "tex1=widgets.FloatText(\n",
    "    value=int(16),\n",
    "    description='N: ',\n",
    "    disabled=False,\n",
    "    continuous_update=True\n",
    ")\n",
    "tex2=widgets.FloatText(\n",
    "    value=int(1),\n",
    "    description='cores: ',\n",
    "    disabled=False,\n",
    "    continuous_update=True\n",
    ")\n",
    "widgets.interact(onck,cond=tex0,F=tex,N=tex1,c=tex2)\n"
   ]
  },
  {
   "cell_type": "code",
   "execution_count": 53,
   "metadata": {},
   "outputs": [
    {
     "name": "stdout",
     "output_type": "stream",
     "text": [
      "input 0_Symatric,1-Asymatric,2-Dynamic\n"
     ]
    },
    {
     "data": {
      "application/vnd.jupyter.widget-view+json": {
       "model_id": "a45a73d259df4c43b7c0c92e0bce8aa1",
       "version_major": 2,
       "version_minor": 0
      },
      "text/plain": [
       "interactive(children=(FloatText(value=0.0, continuous_update=True, description='TypeCheck: '), FloatText(value…"
      ]
     },
     "metadata": {},
     "output_type": "display_data"
    },
    {
     "data": {
      "text/plain": [
       "<function __main__.onck(cond, F, N, c)>"
      ]
     },
     "execution_count": 53,
     "metadata": {},
     "output_type": "execute_result"
    }
   ],
   "source": [
    "%matplotlib inline\n",
    "import matplotlib.pyplot as plt\n",
    "import ipywidgets as widgets\n",
    "\n",
    "\n",
    "def onck(cond,F,N,c):\n",
    "    check=cond\n",
    "    n=N\n",
    "    cores=c\n",
    "    r_=[2]\n",
    "    while(r_[-1]<int(n/cores)):\n",
    "        r_.append(r_[-1]+r_[-1])\n",
    "    r=[0.0001]+r_\n",
    "    speed_s_l=[]\n",
    "    f=F\n",
    "    if (cond==0):\n",
    "        for i in r:\n",
    "            speed_s=1/(((1-f)/(i**0.5))+((f*i)/((i**0.5)*n)))\n",
    "            speed_s_l.append(speed_s)\n",
    "        y_label='Speedup_Symmetric'\n",
    "    elif(cond==1) :\n",
    "        for i in r:\n",
    "            speed_s=1/(((1-f)/(i**0.5))+(f/((i**0.5)+(n-i))))\n",
    "            speed_s_l.append(speed_s)\n",
    "        y_label='Speedup_Asymmetric'\n",
    "    elif (cond==2):\n",
    "        for i in r:\n",
    "            speed_s=1/(((1-f)/(i**0.5))+(f/n))\n",
    "            speed_s_l.append(speed_s)\n",
    "        y_label='Speedup_Dynamic'\n",
    "    fig=plt.figure(figsize=(13,9))\n",
    "    plt.plot(r,speed_s_l)\n",
    "    #plt.xticks([0]+r_,[0]+r_)\n",
    "    #plt.yticks([2,4,6,8,10,12,14,16],[2,4,6,8,10,12,14,16])\n",
    "    plt.xlabel('r_BCEs')\n",
    "    plt.ylabel(y_label)\n",
    "    plt.title('n={}'.format(n))\n",
    "    plt.grid(True)\n",
    "    plt.show()\n",
    "    print('The best result (',r[speed_s_l.index(max(speed_s_l))],',',max(speed_s_l),')')\n",
    "print('input 0_Symatric,1-Asymatric,2-Dynamic')\n",
    "tex0=widgets.FloatText(\n",
    "    value=int(0),\n",
    "    description='TypeCheck: ',\n",
    "    disabled=False,\n",
    "    continuous_update=True\n",
    ")\n",
    "tex=widgets.FloatText(\n",
    "    value=float(0.5),\n",
    "    description='F: ',\n",
    "    disabled=False,\n",
    "    continuous_update=True\n",
    ")\n",
    "tex1=widgets.FloatText(\n",
    "    value=int(16),\n",
    "    description='N: ',\n",
    "    disabled=False,\n",
    "    continuous_update=True\n",
    ")\n",
    "tex2=widgets.FloatText(\n",
    "    value=int(1),\n",
    "    description='cores: ',\n",
    "    disabled=False,\n",
    "    continuous_update=True\n",
    ")\n",
    "widgets.interact(onck,cond=tex0,F=tex,N=tex1,c=tex2)\n"
   ]
  },
  {
   "cell_type": "code",
   "execution_count": null,
   "metadata": {},
   "outputs": [],
   "source": []
  }
 ],
 "metadata": {
  "kernelspec": {
   "display_name": "Python 3",
   "language": "python",
   "name": "python3"
  },
  "language_info": {
   "codemirror_mode": {
    "name": "ipython",
    "version": 3
   },
   "file_extension": ".py",
   "mimetype": "text/x-python",
   "name": "python",
   "nbconvert_exporter": "python",
   "pygments_lexer": "ipython3",
   "version": "3.8.3"
  }
 },
 "nbformat": 4,
 "nbformat_minor": 4
}
