{
 "cells": [
  {
   "cell_type": "code",
   "execution_count": 1,
   "metadata": {},
   "outputs": [],
   "source": [
    "import numpy as np"
   ]
  },
  {
   "cell_type": "code",
   "execution_count": 3,
   "metadata": {},
   "outputs": [
    {
     "data": {
      "text/plain": [
       "[<matplotlib.lines.Line2D at 0x7f7352b71580>]"
      ]
     },
     "execution_count": 3,
     "metadata": {},
     "output_type": "execute_result"
    },
    {
     "data": {
      "image/png": "[encoded data removed]",
      "text/plain": [
       "<Figure size 432x288 with 1 Axes>"
      ]
     },
     "metadata": {
      "needs_background": "light"
     },
     "output_type": "display_data"
    }
   ],
   "source": [
    "\n",
    "import matplotlib.pyplot as plt\n",
    "plt.plot([0,1,2,3],[0,1,2,3])\n",
    "\n",
    "\n",
    "\n",
    "\n",
    "\n",
    "\n",
    "\n"
   ]
  },
  {
   "cell_type": "code",
   "execution_count": null,
   "metadata": {},
   "outputs": [],
   "source": []
  },
  {
   "cell_type": "markdown",
   "metadata": {},
   "source": []
  },
  {
   "cell_type": "code",
   "execution_count": null,
   "metadata": {},
   "outputs": [],
   "source": [
    "%matplotlib notebook\n",
    "import matplotlib.pyplot as plt\n",
    "import mplcursors\n",
    "from mpldatacursor import datacursor\n",
    "from matplotlib.widgets import Cursor , Button\n",
    "fig,ax=plt.subplots()\n",
    "x,=plt.plot([0,1,2,3,4],[0,1,2,3,4])\n",
    "cursor=Cursor(ax)\n",
    "'''\n",
    "def onclk(event):\n",
    "    x1,y1=event.xdata,event.ydata\n",
    "    print(x1,y1)\n",
    "    \n",
    "fig.canvas.mpl_connect('button_press_event',onclk)\n",
    "'''\n",
    "'''\n",
    "def on_move(event):\n",
    "    if event.inaxes:\n",
    "        x0, y0 = trans.transform((event.xdata, event.ydata))\n",
    "        #user coordinates=event.xdata, event.ydata, these are values seen by user, plot coordinates x0, y0, unseen coordinates used by plot\n",
    "        xfig, yfig = zip(*[trans.transform((x,y)) for x,y in zip(xdata,ydata)])\n",
    "        dists = [math.sqrt((x-x0)**2+(y-y0)**2) for x,y in zip(xfig, yfig)]\n",
    "\n",
    "        for n,(x,y,dist,label) in enumerate(zip(xdata,ydata,dists, labels)):\n",
    "            if dist < markersize_inches and annotations[n] is None:\n",
    "                annotations[n]=ax.annotate(\n",
    "                    label,\n",
    "                    [x,y], xycoords='data',\n",
    "                    xytext = (10,10), textcoords='offset points',\n",
    "                    ha='left', va='center',\n",
    "                    bbox=dict(facecolor='white', edgecolor='black', boxstyle='round'),\n",
    "                    zorder=10,\n",
    "                )\n",
    "                fig.canvas.draw()\n",
    "\n",
    "            elif dist > markersize_inches and annotations[n] is not None:\n",
    "                annotations[n].remove()\n",
    "                annotations[n] = None\n",
    "                fig.canvas.draw()\n",
    "##connecting the event handler\n",
    "cid = fig.canvas.mpl_connect('motion_notify_event', on_move)\n",
    "'''\n",
    "'''\n",
    "def onclick(event):\n",
    "    print('%s click: button=%d, x=%d, y=%d, xdata=%f, ydata=%f' %\n",
    "          ('double' if event.dblclick else 'single', event.button,\n",
    "           event.x, event.y, event.xdata, event.ydata))\n",
    "'''\n",
    "def onclick(event):\n",
    "    tx = 'button=%d, x=%d, y=%d, xdata=%f, ydata=%f' % (event.button, event.x, event.y, event.xdata, event.ydata)\n",
    "    text.set_text(tx)\n",
    "cid = fig.canvas.mpl_connect('button_press_event', onclick)\n",
    "\n",
    "\n",
    "plt.show()\n",
    "    "
   ]
  },
  {
   "cell_type": "code",
   "execution_count": null,
   "metadata": {},
   "outputs": [],
   "source": [
    "def on_plot_hover(event):\n",
    "    for curve in plot.get_lines():\n",
    "        if curve.contains(event)[0]:\n",
    "            print \"over %s\" % curve.get_gid()\n",
    "\n",
    "fig.canvas.mpl_connect('motion_notify_event', on_plot_hover) "
   ]
  },
  {
   "cell_type": "code",
   "execution_count": null,
   "metadata": {},
   "outputs": [],
   "source": [
    "import plotly.express as px\n",
    "\n",
    "df_2007 = px.data.gapminder().query(\"year==2007\")\n",
    "\n",
    "#fig = px.scatter(df_2007, x=\"gdpPercap\", y=\"lifeExp\", log_x=True,\n",
    " #                hover_name=\"country\", hover_data=[\"continent\", \"pop\"])\n",
    "dat={'a':[0,1,2,3,4],'b':[0,1,2,3,4]}\n",
    "fig=px.line(dat,x='a',y='b',hover_data=['a','b'])    \n",
    "\n",
    "fig.show()"
   ]
  },
  {
   "cell_type": "code",
   "execution_count": null,
   "metadata": {},
   "outputs": [
    {
     "name": "stdout",
     "output_type": "stream",
     "text": [
      "input 000 to stop adding \n"
     ]
    }
   ],
   "source": [
    "import math\n",
    "import numpy as np\n",
    "import ipywidgets as widgets\n",
    "import matplotlib.pyplot as plt\n",
    "import pandas as pd\n",
    "global x_values\n",
    "x_values=[]\n",
    "inp=0\n",
    "print('input 000 to stop adding ')\n",
    "while (True):\n",
    "    inp=input(\"Enter X: \")\n",
    "    if (inp==\"000\"):\n",
    "        break\n",
    "    else:\n",
    "        x_values.append(float(inp))\n",
    "inp2=input(\"Enter Zeta: \")\n",
    "global n\n",
    "n=1\n",
    "\n",
    "global magnitude\n",
    "magnitude=[]\n",
    "def magn_res(x_values,n,zeta):\n",
    "    magn=[]\n",
    "    for i in x_values:\n",
    "        magn.append(n/(np.sqrt(math.pow((1-math.pow(i,2)),2)+math.pow((2*zeta*i),2))))\n",
    "    return magn\n",
    "\n",
    "global x_lists\n",
    "x_lists=[]\n",
    "global mag_lists\n",
    "mag_lists=[]\n",
    "global z_lists\n",
    "z_lists=[]\n",
    "def onck(z):\n",
    "    magnitude=magn_res(x_values,n,z)\n",
    "    if magnitude not in mag_lists:\n",
    "        mag_lists.append(magnitude)\n",
    "        x_lists.append(x_values)\n",
    "        z_lists.append([z for i in range(len(x_values))])\n",
    "    dic={'Magnitude':magnitude,'X':x_values,'Zeta':[z for i in range(len(x_values))]}\n",
    "    df=pd.DataFrame(dic)\n",
    "    plt.rcParams[\"figure.figsize\"] = (20,10)\n",
    "    for i in range(len(mag_lists)):\n",
    "        plt.plot(x_lists[i],mag_lists[i],label='Z= '+str(z_lists[i][0])) \n",
    "    plt.grid(True)\n",
    "    plt.xlabel(\"X\")\n",
    "    plt.ylabel('Magnitude')\n",
    "    plt.xscale('log')\n",
    "    plt.yscale('log')\n",
    "    plt.yticks([0.1,0.2,0.3,0.4,0.5,0.6,0.7,0.8,0.9,1,2,3,4,5,6,7,8,9,10],\n",
    "              [0.1,0.2,0.3,0.4,0.5,0.6,0.7,0.8,0.9,1,2,3,4,5,6,7,8,9,10])\n",
    "    plt.ylim(0.1,10)\n",
    "    plt.grid(True)\n",
    "    plt.legend()\n",
    "     \n",
    "    plt.show()\n",
    "    print(df.to_string(index=False))\n",
    "    \n",
    "\n",
    "    \n",
    "    \n",
    "tex=widgets.FloatText(\n",
    "    value=float(inp2),\n",
    "    description='Zeta:',\n",
    "    disabled=False,\n",
    "    continuous_update=True\n",
    ")\n",
    "widgets.interact(onck,z=tex)"
   ]
  },
  {
   "cell_type": "code",
   "execution_count": null,
   "metadata": {},
   "outputs": [],
   "source": []
  }
 ],
 "metadata": {
  "kernelspec": {
   "display_name": "Python 3",
   "language": "python",
   "name": "python3"
  },
  "language_info": {
   "codemirror_mode": {
    "name": "ipython",
    "version": 3
   },
   "file_extension": ".py",
   "mimetype": "text/x-python",
   "name": "python",
   "nbconvert_exporter": "python",
   "pygments_lexer": "ipython3",
   "version": "3.8.3"
  }
 },
 "nbformat": 4,
 "nbformat_minor": 4
}
